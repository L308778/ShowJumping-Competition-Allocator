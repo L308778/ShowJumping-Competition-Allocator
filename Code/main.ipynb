{
 "cells": [
  {
   "cell_type": "code",
   "execution_count": 71,
   "metadata": {},
   "outputs": [],
   "source": [
    "import pandas as pd\n",
    "import numpy as np\n",
    "from bs4 import BeautifulSoup\n",
    "from selenium import webdriver\n",
    "from geopy.geocoders import Nominatim\n",
    "import json\n",
    "import requests\n",
    "from math import sqrt\n",
    "import numpy as np\n",
    "import rsome as rso\n",
    "from rsome import ro\n",
    "from rsome import ort_solver as solver\n",
    "import folium\n",
    "import ipywidgets as widgets\n",
    "import random\n",
    "import datetime\n",
    "import math\n",
    "import matplotlib.pyplot as plt\n",
    "import seaborn as sns\n",
    "import math"
   ]
  },
  {
   "cell_type": "markdown",
   "metadata": {},
   "source": [
    "### 1. Use webdriver to put website into state of scrapping"
   ]
  },
  {
   "cell_type": "code",
   "execution_count": null,
   "metadata": {},
   "outputs": [],
   "source": [
    "baseUrl = \"https://www.oeps.at/de/termine\"\n",
    "chrome_options = webdriver.ChromeOptions()\n",
    "chrome_options.add_argument('headless')\n",
    "\n",
    "#Create the webdriver instance\n",
    "browser = webdriver.Chrome(\"./chromedriver\", options=chrome_options)\n",
    "\n",
    "#Open the url\n",
    "browser.get(baseUrl)\n",
    "\n",
    "#Find element to filter for the whole year data\n",
    "dropdown = browser.find_element_by_xpath('/html/body/main/div[1]/div/div/div/div[2]/form/span[1]/select[1]')\n",
    "dropdown.click()\n",
    "\n",
    "#Click\n",
    "option = browser.find_element_by_xpath(\"/html/body/main/div[1]/div/div/div/div[2]/form/span[1]/select[1]/option[1]\")\n",
    "option.click()\n",
    "\n",
    "#Submit\n",
    "submit = browser.find_element_by_xpath(\"/html/body/main/div[1]/div/div/div/div[2]/form/input\")\n",
    "submit.click()\n",
    "\n",
    "#Get data\n",
    "all_data = browser.find_element_by_class_name(\"appointmentslist\").text"
   ]
  },
  {
   "cell_type": "markdown",
   "metadata": {},
   "source": [
    "### 2. Scrap data from website and assemble it into a dataframe"
   ]
  },
  {
   "cell_type": "code",
   "execution_count": null,
   "metadata": {},
   "outputs": [],
   "source": [
    "#Convert month names into numerics\n",
    "months_conversion = {\n",
    "    \"Jänner\":1,\n",
    "    \"Februar\":2,\n",
    "    \"März\":3,\n",
    "    \"April\":4,\n",
    "    \"Mai\":5,\n",
    "    \"Juni\":6,\n",
    "    \"Juli\":7,\n",
    "    \"August\":8,\n",
    "    \"September\":9,\n",
    "    \"Oktober\":10,\n",
    "    \"November\":11,\n",
    "    \"Dezember\":12\n",
    "}"
   ]
  },
  {
   "cell_type": "code",
   "execution_count": null,
   "metadata": {},
   "outputs": [],
   "source": [
    "#Connect bs4 to selenium\n",
    "html = browser.page_source\n",
    "\n",
    "#Instantiate soup instance\n",
    "soup = BeautifulSoup(html, 'lxml')\n",
    "\n",
    "#Get main appointment list\n",
    "main_div = soup.find('div', class_='appointmentslist')\n",
    "\n",
    "#Get all appointments for competitions\n",
    "all_divs = main_div.find_all(\"div\", class_=\"appointment\")\n",
    "\n",
    "#Final data\n",
    "data = []\n",
    "\n",
    "for test in all_divs:\n",
    "    \n",
    "    curr = {}\n",
    "    \n",
    "    #Month & date\n",
    "    full_date = test.find(\"div\", class_=\"date\").text\n",
    "    \n",
    "    #Only get the start of the competition to determine the week\n",
    "    date = \" \".join(full_date.split()).split()\n",
    "    month = months_conversion[date[0]]\n",
    "    start_date = date[1]\n",
    "    \n",
    "    #Tournament category\n",
    "    category = test.find(\"div\", class_=\"category\").text\n",
    "    category = category.split()\n",
    "    \n",
    "    #We only want showjumping competitions\n",
    "    category = list(filter(lambda x: \"S\" in x,category))\n",
    "    \n",
    "    #If the list is empty (as we know that S stands for jumping) we drop this competition\n",
    "    if len(category) == 0:\n",
    "        continue\n",
    "        \n",
    "    category = \", \".join(category)\n",
    "    \n",
    "    #Location\n",
    "    location = test.find(\"div\", class_=\"location\").text.split()\n",
    "    \n",
    "    #Only want the city or village of the location\n",
    "    location = \" \".join(location[1:])\n",
    "    \n",
    "    #Assemble dictionary\n",
    "    curr[\"Month\"] = month\n",
    "    curr[\"Date\"] = start_date\n",
    "    curr[\"Destination\"] = location\n",
    "    curr[\"Category\"] = category\n",
    "    \n",
    "    #Append to data\n",
    "    data.append(curr)\n",
    "    \n",
    "#Close browser\n",
    "browser.close()\n",
    "    \n",
    "data = pd.DataFrame(data)\n",
    "    "
   ]
  },
  {
   "cell_type": "code",
   "execution_count": null,
   "metadata": {
    "scrolled": true
   },
   "outputs": [],
   "source": [
    "#Final data after webscraping\n",
    "data"
   ]
  },
  {
   "cell_type": "markdown",
   "metadata": {},
   "source": [
    "### 3. Use Maps API to find distance between home base and tournament to get transportation cost\n",
    "\n",
    "#### The distance is used to calculate the transportation cost if the manager decides to send the horses, which in the model will be considered a fixed cost\n",
    "\n",
    "##### First, I map the latitude and longitude to every location and then I find the driving distance between the home base and the location"
   ]
  },
  {
   "cell_type": "code",
   "execution_count": 6,
   "metadata": {},
   "outputs": [],
   "source": [
    "\"\"\"From my previous runs, I saw that some locations cannot be mapped to lat long given by the webiste. \n",
    "So I used the actual address of the location or a larger location close by.\"\"\"\n",
    "\n",
    "bad_loc = {\n",
    "    \"St. Margarethen-Stückler\": \"Reiterhofstraße 38, 9412 Wolfsberg, Austria\",\n",
    "    \"Auhof Neufeld\": \"Neufeld an Leitha\",\n",
    "    \"Treffen - GHPC\": \"Gaston Glock Straße 8, 9521 Treffen am Ossiacher See, Austria\",\n",
    "    \"Wien-Freudenau/ASKÖ\":\"Freudenau 555, 1020 Wien, Austria\"\n",
    "}"
   ]
  },
  {
   "cell_type": "code",
   "execution_count": 7,
   "metadata": {},
   "outputs": [],
   "source": [
    "#My base location was my old horse riding stable\n",
    "data[\"Origin\"] = \"Zwentendorf\"\n",
    "geolocator = Nominatim(user_agent=\"Leo\")\n",
    "home = geolocator.geocode(\"Zwentendorf\")\n",
    "\n",
    "#Add lat and long to all destinations\n",
    "def lat_long(address):\n",
    "    \n",
    "    geolocator = Nominatim(user_agent=\"Leo\")\n",
    "    location = geolocator.geocode(address)\n",
    "    \n",
    "    if not location:\n",
    "        location = geolocator.geocode(bad_loc[address])\n",
    "    \n",
    "    return [location.longitude, location.latitude]\n",
    "\n",
    "#Getting both coords at the same time to limit runtime\n",
    "data[\"Destination_Coords\"] = data[\"Destination\"].apply(lambda x: lat_long(x))\n",
    "data[\"Destination_Long\"] = data[\"Destination_Coords\"].apply(lambda x: x[0])\n",
    "data[\"Destination_Lat\"] = data[\"Destination_Coords\"].apply(lambda x: x[1])\n",
    "data[\"Origin_Long\"] = home.longitude\n",
    "data[\"Origin_Lat\"] = home.latitude"
   ]
  },
  {
   "cell_type": "code",
   "execution_count": 8,
   "metadata": {},
   "outputs": [
    {
     "data": {
      "text/html": [
       "<div>\n",
       "<style scoped>\n",
       "    .dataframe tbody tr th:only-of-type {\n",
       "        vertical-align: middle;\n",
       "    }\n",
       "\n",
       "    .dataframe tbody tr th {\n",
       "        vertical-align: top;\n",
       "    }\n",
       "\n",
       "    .dataframe thead th {\n",
       "        text-align: right;\n",
       "    }\n",
       "</style>\n",
       "<table border=\"1\" class=\"dataframe\">\n",
       "  <thead>\n",
       "    <tr style=\"text-align: right;\">\n",
       "      <th></th>\n",
       "      <th>Month</th>\n",
       "      <th>Date</th>\n",
       "      <th>Destination</th>\n",
       "      <th>Category</th>\n",
       "      <th>Origin</th>\n",
       "      <th>Destination_Coords</th>\n",
       "      <th>Destination_Long</th>\n",
       "      <th>Destination_Lat</th>\n",
       "      <th>Origin_Long</th>\n",
       "      <th>Origin_Lat</th>\n",
       "    </tr>\n",
       "  </thead>\n",
       "  <tbody>\n",
       "    <tr>\n",
       "      <th>0</th>\n",
       "      <td>1</td>\n",
       "      <td>28.01.2022</td>\n",
       "      <td>Ebreichsdorf</td>\n",
       "      <td>CSN-B*</td>\n",
       "      <td>Zwentendorf</td>\n",
       "      <td>[16.39163215125545, 47.96611095]</td>\n",
       "      <td>16.391632</td>\n",
       "      <td>47.966111</td>\n",
       "      <td>16.43302</td>\n",
       "      <td>48.610603</td>\n",
       "    </tr>\n",
       "    <tr>\n",
       "      <th>1</th>\n",
       "      <td>2</td>\n",
       "      <td>11.02.2022</td>\n",
       "      <td>Stadl Paura</td>\n",
       "      <td>CSN-B*</td>\n",
       "      <td>Zwentendorf</td>\n",
       "      <td>[13.8694007, 48.0838623]</td>\n",
       "      <td>13.869401</td>\n",
       "      <td>48.083862</td>\n",
       "      <td>16.43302</td>\n",
       "      <td>48.610603</td>\n",
       "    </tr>\n",
       "    <tr>\n",
       "      <th>2</th>\n",
       "      <td>2</td>\n",
       "      <td>19.02.2022</td>\n",
       "      <td>Tulln an der Donau</td>\n",
       "      <td>CSN-C</td>\n",
       "      <td>Zwentendorf</td>\n",
       "      <td>[16.0567744, 48.3311686]</td>\n",
       "      <td>16.056774</td>\n",
       "      <td>48.331169</td>\n",
       "      <td>16.43302</td>\n",
       "      <td>48.610603</td>\n",
       "    </tr>\n",
       "    <tr>\n",
       "      <th>3</th>\n",
       "      <td>2</td>\n",
       "      <td>25.02.2022</td>\n",
       "      <td>Ebreichsdorf</td>\n",
       "      <td>CSN-B*</td>\n",
       "      <td>Zwentendorf</td>\n",
       "      <td>[16.39163215125545, 47.96611095]</td>\n",
       "      <td>16.391632</td>\n",
       "      <td>47.966111</td>\n",
       "      <td>16.43302</td>\n",
       "      <td>48.610603</td>\n",
       "    </tr>\n",
       "    <tr>\n",
       "      <th>4</th>\n",
       "      <td>2</td>\n",
       "      <td>25.02.2022</td>\n",
       "      <td>Stadl Paura</td>\n",
       "      <td>CSN-B*</td>\n",
       "      <td>Zwentendorf</td>\n",
       "      <td>[13.8694007, 48.0838623]</td>\n",
       "      <td>13.869401</td>\n",
       "      <td>48.083862</td>\n",
       "      <td>16.43302</td>\n",
       "      <td>48.610603</td>\n",
       "    </tr>\n",
       "    <tr>\n",
       "      <th>...</th>\n",
       "      <td>...</td>\n",
       "      <td>...</td>\n",
       "      <td>...</td>\n",
       "      <td>...</td>\n",
       "      <td>...</td>\n",
       "      <td>...</td>\n",
       "      <td>...</td>\n",
       "      <td>...</td>\n",
       "      <td>...</td>\n",
       "      <td>...</td>\n",
       "    </tr>\n",
       "    <tr>\n",
       "      <th>180</th>\n",
       "      <td>11</td>\n",
       "      <td>04.11.2022</td>\n",
       "      <td>Stadl Paura</td>\n",
       "      <td>CSN-B*</td>\n",
       "      <td>Zwentendorf</td>\n",
       "      <td>[13.8694007, 48.0838623]</td>\n",
       "      <td>13.869401</td>\n",
       "      <td>48.083862</td>\n",
       "      <td>16.43302</td>\n",
       "      <td>48.610603</td>\n",
       "    </tr>\n",
       "    <tr>\n",
       "      <th>181</th>\n",
       "      <td>11</td>\n",
       "      <td>11.11.2022</td>\n",
       "      <td>Stadl Paura</td>\n",
       "      <td>CSN-B*</td>\n",
       "      <td>Zwentendorf</td>\n",
       "      <td>[13.8694007, 48.0838623]</td>\n",
       "      <td>13.869401</td>\n",
       "      <td>48.083862</td>\n",
       "      <td>16.43302</td>\n",
       "      <td>48.610603</td>\n",
       "    </tr>\n",
       "    <tr>\n",
       "      <th>182</th>\n",
       "      <td>11</td>\n",
       "      <td>25.11.2022</td>\n",
       "      <td>Ebreichsdorf</td>\n",
       "      <td>CSN-B*, CSNP-B</td>\n",
       "      <td>Zwentendorf</td>\n",
       "      <td>[16.39163215125545, 47.96611095]</td>\n",
       "      <td>16.391632</td>\n",
       "      <td>47.966111</td>\n",
       "      <td>16.43302</td>\n",
       "      <td>48.610603</td>\n",
       "    </tr>\n",
       "    <tr>\n",
       "      <th>183</th>\n",
       "      <td>12</td>\n",
       "      <td>02.12.2022</td>\n",
       "      <td>Stadl Paura</td>\n",
       "      <td>CSN-A*, CSN-B</td>\n",
       "      <td>Zwentendorf</td>\n",
       "      <td>[13.8694007, 48.0838623]</td>\n",
       "      <td>13.869401</td>\n",
       "      <td>48.083862</td>\n",
       "      <td>16.43302</td>\n",
       "      <td>48.610603</td>\n",
       "    </tr>\n",
       "    <tr>\n",
       "      <th>184</th>\n",
       "      <td>12</td>\n",
       "      <td>08.12.2022</td>\n",
       "      <td>Salzburg Arena/Messezentrum</td>\n",
       "      <td>CSI4*, CSI2*, CSIAm-A, CSICH-A, CSIJ-A, CSIY-A...</td>\n",
       "      <td>Zwentendorf</td>\n",
       "      <td>[13.027938190578512, 47.8253461]</td>\n",
       "      <td>13.027938</td>\n",
       "      <td>47.825346</td>\n",
       "      <td>16.43302</td>\n",
       "      <td>48.610603</td>\n",
       "    </tr>\n",
       "  </tbody>\n",
       "</table>\n",
       "<p>185 rows × 10 columns</p>\n",
       "</div>"
      ],
      "text/plain": [
       "     Month        Date                  Destination  \\\n",
       "0        1  28.01.2022                 Ebreichsdorf   \n",
       "1        2  11.02.2022                  Stadl Paura   \n",
       "2        2  19.02.2022           Tulln an der Donau   \n",
       "3        2  25.02.2022                 Ebreichsdorf   \n",
       "4        2  25.02.2022                  Stadl Paura   \n",
       "..     ...         ...                          ...   \n",
       "180     11  04.11.2022                  Stadl Paura   \n",
       "181     11  11.11.2022                  Stadl Paura   \n",
       "182     11  25.11.2022                 Ebreichsdorf   \n",
       "183     12  02.12.2022                  Stadl Paura   \n",
       "184     12  08.12.2022  Salzburg Arena/Messezentrum   \n",
       "\n",
       "                                              Category       Origin  \\\n",
       "0                                               CSN-B*  Zwentendorf   \n",
       "1                                               CSN-B*  Zwentendorf   \n",
       "2                                                CSN-C  Zwentendorf   \n",
       "3                                               CSN-B*  Zwentendorf   \n",
       "4                                               CSN-B*  Zwentendorf   \n",
       "..                                                 ...          ...   \n",
       "180                                             CSN-B*  Zwentendorf   \n",
       "181                                             CSN-B*  Zwentendorf   \n",
       "182                                     CSN-B*, CSNP-B  Zwentendorf   \n",
       "183                                      CSN-A*, CSN-B  Zwentendorf   \n",
       "184  CSI4*, CSI2*, CSIAm-A, CSICH-A, CSIJ-A, CSIY-A...  Zwentendorf   \n",
       "\n",
       "                   Destination_Coords  Destination_Long  Destination_Lat  \\\n",
       "0    [16.39163215125545, 47.96611095]         16.391632        47.966111   \n",
       "1            [13.8694007, 48.0838623]         13.869401        48.083862   \n",
       "2            [16.0567744, 48.3311686]         16.056774        48.331169   \n",
       "3    [16.39163215125545, 47.96611095]         16.391632        47.966111   \n",
       "4            [13.8694007, 48.0838623]         13.869401        48.083862   \n",
       "..                                ...               ...              ...   \n",
       "180          [13.8694007, 48.0838623]         13.869401        48.083862   \n",
       "181          [13.8694007, 48.0838623]         13.869401        48.083862   \n",
       "182  [16.39163215125545, 47.96611095]         16.391632        47.966111   \n",
       "183          [13.8694007, 48.0838623]         13.869401        48.083862   \n",
       "184  [13.027938190578512, 47.8253461]         13.027938        47.825346   \n",
       "\n",
       "     Origin_Long  Origin_Lat  \n",
       "0       16.43302   48.610603  \n",
       "1       16.43302   48.610603  \n",
       "2       16.43302   48.610603  \n",
       "3       16.43302   48.610603  \n",
       "4       16.43302   48.610603  \n",
       "..           ...         ...  \n",
       "180     16.43302   48.610603  \n",
       "181     16.43302   48.610603  \n",
       "182     16.43302   48.610603  \n",
       "183     16.43302   48.610603  \n",
       "184     16.43302   48.610603  \n",
       "\n",
       "[185 rows x 10 columns]"
      ]
     },
     "execution_count": 8,
     "metadata": {},
     "output_type": "execute_result"
    }
   ],
   "source": [
    "data"
   ]
  },
  {
   "cell_type": "code",
   "execution_count": 9,
   "metadata": {},
   "outputs": [],
   "source": [
    "data.to_csv(\"./data/interim.csv\",index=False)"
   ]
  },
  {
   "cell_type": "code",
   "execution_count": 10,
   "metadata": {},
   "outputs": [],
   "source": [
    "def get_drive_distance(long_o, lat_o, long_d, lat_d):\n",
    "    \n",
    "    r = requests.get(f\"http://router.project-osrm.org/route/v1/car/{long_o},{lat_o};{long_d},{lat_d}?overview=false\"\"\")\n",
    "    \n",
    "    routes = json.loads(r.content)\n",
    "    route = routes.get(\"routes\")[0]\n",
    "    distance = route[\"distance\"]\n",
    "        \n",
    "    return distance"
   ]
  },
  {
   "cell_type": "code",
   "execution_count": 11,
   "metadata": {},
   "outputs": [],
   "source": [
    "data[\"Distance\"] = data.apply(lambda x: get_drive_distance(x.Origin_Long, x.Origin_Lat, x.Destination_Long, x.Destination_Lat), axis=1)\n"
   ]
  },
  {
   "cell_type": "code",
   "execution_count": 12,
   "metadata": {},
   "outputs": [],
   "source": [
    "#Given that Distance is given in meters, I readjust\n",
    "data[\"Distance\"] = data[\"Distance\"] / 1000"
   ]
  },
  {
   "cell_type": "code",
   "execution_count": 13,
   "metadata": {},
   "outputs": [],
   "source": [
    "data.to_csv(\"./data/interim.csv\",index=False)"
   ]
  },
  {
   "cell_type": "markdown",
   "metadata": {},
   "source": [
    "### 4. Create cost and revenue paramters"
   ]
  },
  {
   "cell_type": "markdown",
   "metadata": {},
   "source": [
    "1. Transportation Cost\n",
    "2. Competition related expenses (depending on category of competition)\n",
    "3. Energy drain for the horse (depending on category of competition and type of horse)\n",
    "4. Revenue is calculated on possible prize money (depending on category of competition)\n"
   ]
  },
  {
   "cell_type": "markdown",
   "metadata": {},
   "source": [
    "The cost for transporting hourses to a competition is the distance * the gasoline price per kilometer * fuel efficiency * 2\n",
    "\n",
    "Fuel Efficiency of trucks (used to transport horses) = 35 litres / kilometer (Source states 30-40)\n",
    "Source: https://www.webfleet.com/en_gb/webfleet/blog/do-you-know-the-diesel-consumption-of-a-lorry-per-km/\n",
    "\n",
    "Price of Gasoline in Austria = 1.59 Euro (Average from November 2021 till March 2022)\n",
    "Source: https://www.globalpetrolprices.com/Austria/Vienna/gasoline_prices/\n",
    "\n",
    "Cost = Fuel Efficiency * Price"
   ]
  },
  {
   "cell_type": "markdown",
   "metadata": {},
   "source": [
    "#### Category Explanation\n",
    "\n",
    "Each category of competition has different values associated to it, as it is the case in reality.\n",
    "\n",
    "Terminology of categories:\n",
    "\n",
    "- CSN standards for a national competition so within Austria\n",
    "Then the ordinality of prize money and cost goes from C to B to A, where A has the highest cost and highest prize money\n",
    "\n",
    "- CSI stands for an international competition within Austria which normally is more expensive and has more prize money than CSN\n",
    "\n",
    "- For CSI the ordinality is similar to CSN but instead of having A, B and C there are stars where 1* has the lowest cost and prize and 4* or 5* has the highest prize and expense.\n",
    "\n",
    "- Under the compete metrics all metrics for competition are 1) pulled from the playbook of the Austrian Horse Association and 2) from personal experience. However, the amount of horse-drain is purely estimated from experience. Horse drain in that is understood as in how much the horse looses energy with each competition entered. \n",
    "\n",
    "Entry cost is same as transportation cost a binary cost because it does not matter on the amount of horses the manager intends to send, whereas average_prize and horse_drain depend on the horse\n",
    "\n"
   ]
  },
  {
   "cell_type": "code",
   "execution_count": 32,
   "metadata": {},
   "outputs": [],
   "source": [
    "data = pd.read_csv(\"./data/interim.csv\")"
   ]
  },
  {
   "cell_type": "code",
   "execution_count": 33,
   "metadata": {},
   "outputs": [],
   "source": [
    "compete_metrics = pd.DataFrame([\n",
    "    {\"cat\":\"CSN-C\", \"Entry Cost\":150, \"Average Price\":50, \"Horse Drain\": 10},\n",
    "    {\"cat\":\"CSN-B\", \"Entry Cost\":200, \"Average Price\":100, \"Horse Drain\": 15},\n",
    "    {\"cat\":\"CSN-B*\", \"Entry Cost\":200, \"Average Price\":100, \"Horse Drain\": 15},\n",
    "    {\"cat\":\"CSN-A\",\"Entry Cost\":250, \"Average Price\":500, \"Horse Drain\": 25},\n",
    "    {\"cat\":\"CSN-A*\",\"Entry Cost\":250, \"Average Price\":500, \"Horse Drain\": 25},\n",
    "    {\"cat\":\"CSI1*\", \"Entry Cost\":350, \"Average Price\":500, \"Horse Drain\": 15},\n",
    "    {\"cat\":\"CSI2*\", \"Entry Cost\":400, \"Average Price\":800, \"Horse Drain\": 25},\n",
    "    {\"cat\":\"CSI3*\", \"Entry Cost\":450, \"Average Price\":1000, \"Horse Drain\": 30},\n",
    "    {\"cat\":\"CSI4*\", \"Entry Cost\":450, \"Average Price\":2000,\"Horse Drain\": 40}\n",
    "])\n",
    "\n",
    "cat_order = {\n",
    "    \"CSN-C\": 1,\n",
    "    \"CSN-B\": 2,\n",
    "    \"CSN-B*\": 2,\n",
    "    \"CSN-A\": 3,\n",
    "    \"CSN-A*\": 3,\n",
    "    \"CSI1*\": 4,\n",
    "    \"CSI2*\": 5,\n",
    "    \"CSI3*\": 6,\n",
    "    \"CSI4*\": 7,\n",
    "}"
   ]
  },
  {
   "cell_type": "code",
   "execution_count": 34,
   "metadata": {},
   "outputs": [],
   "source": [
    "#I only want the competitions mentioned above and define that if a competition implies multiple categories, then only the highest one is considered\n",
    "\n",
    "def cat_cleaner(row):\n",
    "    \n",
    "    cats = row.split(\", \")\n",
    "    \n",
    "    if len(cats) < 2:\n",
    "        \n",
    "        if row not in cat_order:\n",
    "            \n",
    "            return \"Drop\"\n",
    "        \n",
    "        else:\n",
    "            return row\n",
    "    \n",
    "    else:\n",
    "        cats = list(filter(lambda x: x in cat_order.keys(), cats))\n",
    "        \n",
    "        if(len(cats)) < 1:\n",
    "            return \"Drop\"\n",
    "        \n",
    "        else:\n",
    "            cats = list(map(lambda x: [x, cat_order[x]], cats))\n",
    "            cats.sort(reverse=True, key=lambda x: x[1])\n",
    "            \n",
    "            return cats[0][0]\n",
    "        \n",
    "data[\"Category\"] = data[\"Category\"].apply(lambda x: cat_cleaner(x))\n",
    "    "
   ]
  },
  {
   "cell_type": "code",
   "execution_count": 35,
   "metadata": {},
   "outputs": [],
   "source": [
    "data = data[data[\"Category\"] != \"Drop\"].reset_index(drop=True)"
   ]
  },
  {
   "cell_type": "markdown",
   "metadata": {},
   "source": [
    "#### Transportation Cost"
   ]
  },
  {
   "cell_type": "code",
   "execution_count": 36,
   "metadata": {},
   "outputs": [],
   "source": [
    "fuel_efficiency = 35/100\n",
    "gasoline_price = 1.59\n",
    "\n",
    "#Assumed that it is way back and forth -> time 2\n",
    "data[\"Transportation Cost\"] = 2 * fuel_efficiency * gasoline_price * data[\"Distance\"]"
   ]
  },
  {
   "cell_type": "markdown",
   "metadata": {},
   "source": [
    "#### Competition Fee + Average Price (Revenue) + Horse Drain / Competition"
   ]
  },
  {
   "cell_type": "code",
   "execution_count": 37,
   "metadata": {},
   "outputs": [],
   "source": [
    "data = pd.merge(data, compete_metrics, left_on=\"Category\", right_on=\"cat\")"
   ]
  },
  {
   "cell_type": "code",
   "execution_count": 38,
   "metadata": {},
   "outputs": [],
   "source": [
    "data = data[[i for i in data.columns if i != \"cat\" and i != \"Destination_Coords\"]]"
   ]
  },
  {
   "cell_type": "code",
   "execution_count": 24,
   "metadata": {},
   "outputs": [],
   "source": [
    "data.to_csv(\"./data/interim.csv\",index=False)"
   ]
  },
  {
   "cell_type": "markdown",
   "metadata": {},
   "source": [
    "### 5. Model"
   ]
  },
  {
   "cell_type": "code",
   "execution_count": 150,
   "metadata": {},
   "outputs": [],
   "source": [
    "data = pd.read_csv(\"./data/interim.csv\")\n",
    "data.sort_values(\"Month\", inplace=True)\n",
    "data = data.reset_index(drop=True)"
   ]
  },
  {
   "cell_type": "markdown",
   "metadata": {},
   "source": [
    "#### Get input from user depending on which horse he wants to compete with in that given year"
   ]
  },
  {
   "cell_type": "code",
   "execution_count": 151,
   "metadata": {
    "scrolled": true
   },
   "outputs": [
    {
     "name": "stdout",
     "output_type": "stream",
     "text": [
      "Number of Horse: \n",
      "3\n",
      "Please select which type of horse, your horses are\n",
      "1=Mature, 2=Runner-Up, 3=Young \n",
      "\n",
      "This selection affects how much energy a horse looses per competition\n",
      "\n",
      "Horse 1 Type:\n",
      "1\n",
      "Horse 2 Type:\n",
      "2\n",
      "Horse 3 Type:\n",
      "3\n"
     ]
    }
   ],
   "source": [
    "#Get input from user how many horses he or she has and ask for the type of horse\n",
    "horse_type = {\n",
    "    1: \"Mature\",\n",
    "    2: \"Runner-Up\",\n",
    "    3: \"Young\"\n",
    "}\n",
    "\n",
    "horse_drain = {\n",
    "    \"Mature\": 0.1,\n",
    "    \"Runner-Up\": 0.4,\n",
    "    \"Young\": 0.6\n",
    "}\n",
    "\n",
    "selected = []\n",
    "\n",
    "\n",
    "try:\n",
    "    n = int(input(\"Number of Horse: \\n\"))\n",
    "    \n",
    "except ValueError:\n",
    "    print(\"Please input an integer!\")\n",
    "    \n",
    "print(\"Please select which type of horse, your horses are\")\n",
    "print(\"1=Mature, 2=Runner-Up, 3=Young \\n\")\n",
    "print(\"This selection affects how much energy a horse looses per competition\\n\")\n",
    "    \n",
    "for i in range(1, n + 1):\n",
    "    \n",
    "    try:\n",
    "        print(\"Horse {} Type:\".format(i))\n",
    "        typed = int(input())\n",
    "        \n",
    "        selected.append({\n",
    "            \"name\":\"Horse_{}\".format(i),\n",
    "            \"drained\": horse_drain[horse_type[typed]]\n",
    "        })\n",
    "        \n",
    "    except:\n",
    "        print(\"Please only type numbers between 1 and 3\")\n",
    "    "
   ]
  },
  {
   "cell_type": "code",
   "execution_count": 152,
   "metadata": {},
   "outputs": [
    {
     "name": "stdout",
     "output_type": "stream",
     "text": [
      "Horse_1 Drain Factor: 0.99\n",
      "Horse_2 Drain Factor: 1.18\n",
      "Horse_3 Drain Factor: 0.42\n"
     ]
    }
   ],
   "source": [
    "#Populate horses in dataframe\n",
    "from operator import itemgetter\n",
    "\n",
    "name = list(map(itemgetter('name'), selected))\n",
    "vals = list(map(itemgetter('drained'), selected))\n",
    "data[name] = 0\n",
    "\n",
    "c = 0\n",
    "\n",
    "#Populate individualized drain values in dataframe\n",
    "for col in name:\n",
    "    \n",
    "    drained = vals[c]\n",
    "    start = 100 - 100 * drained\n",
    "    end = 100 + 100 * drained\n",
    "    \n",
    "    #Get random guess within range to simulate randomness in energy taken from horses within a specific range\n",
    "    rand_drain = random.randrange(start, end, 1) / 100\n",
    "    \n",
    "    print(col + \" Drain Factor: {}\".format(str(rand_drain)))\n",
    "    \n",
    "    data[col + \"_Drain\"] = data[\"Horse Drain\"] * rand_drain\n",
    "    \n",
    "    c+=1\n"
   ]
  },
  {
   "cell_type": "code",
   "execution_count": 153,
   "metadata": {},
   "outputs": [],
   "source": [
    "header = data.columns"
   ]
  },
  {
   "cell_type": "code",
   "execution_count": 154,
   "metadata": {},
   "outputs": [],
   "source": [
    "#Define decision variables\n",
    "length = len(data.columns)\n",
    "\n",
    "#Horses\n",
    "horses = data.iloc[:,length - 2 * n:length - n]\n",
    "\n",
    "#Number of possible competitions per year\n",
    "coms_per_year = 12 * 2 #2 competitions per month on average\n",
    "\n",
    "#Max horses per competition\n",
    "max_horses = max(2, math.ceil(n / 2))\n",
    "\n",
    "#Max drain per month\n",
    "max_drain = 300\n",
    "drain = data.iloc[:,length - n:length].values\n",
    "\n",
    "#Cost and Revenue per horse\n",
    "revenue = data[\"Average Price\"].values\n",
    "cost = data[\"Entry Cost\"].values\n",
    "\n",
    "#Cost per competition\n",
    "transport = data[\"Transportation Cost\"].values\n",
    "\n",
    "# Preparing an optimization model\n",
    "model = ro.Model('Competition Allocator')\n",
    "\n",
    "#h is for compete on non-compete, whereas y is for whether the manager sends any horses there or not\n",
    "h = model.dvar((n, len(horses)), vtype=\"B\")\n",
    "    \n",
    "y = model.dvar(len(horses), vtype=\"B\")"
   ]
  },
  {
   "cell_type": "code",
   "execution_count": 155,
   "metadata": {},
   "outputs": [],
   "source": [
    "#Get indexes of all months\n",
    "indexes = []\n",
    "for month in range(1, 13):\n",
    "    indexes.append([data.loc[data[\"Month\"] == month].index[0], data.loc[data[\"Month\"] == month].index[-1] + 1])"
   ]
  },
  {
   "cell_type": "code",
   "execution_count": 156,
   "metadata": {
    "scrolled": true
   },
   "outputs": [
    {
     "name": "stdout",
     "output_type": "stream",
     "text": [
      "Being solved by OR-Tools...\n",
      "Solution status: 0\n",
      "Running time: 0.0638s\n"
     ]
    }
   ],
   "source": [
    "#Objective\n",
    "model.max(sum((h[i]@(revenue-cost) for i in range(n))) - transport@y)\n",
    "\n",
    "#Contraints\n",
    "model.st(\n",
    "    #Max horses\n",
    "    h.sum(axis=0) <= max_horses,\n",
    "    \n",
    "    #Max competitions each horse can compete each year\n",
    "    h.sum(axis=1) <= coms_per_year,\n",
    "    \n",
    "    #Fix the fixed cost to whether a horse participates or not\n",
    "    h.sum(axis=0) <= y * transport,\n",
    "    \n",
    "    #Restrain to max-competitions per month\n",
    "    (h[:,month[0]:month[1]].sum(axis=1) <= 3 for month in indexes),\n",
    "    \n",
    "    #Restrain for given drainage\n",
    "    ((h[:,month[0]:month[1]].sum(axis=1) * drain[month[0]:month[1]]).sum(axis=1) <= max_drain for month in indexes)\n",
    ")\n",
    "\n",
    "#Solve model\n",
    "model.solve(solver)"
   ]
  },
  {
   "cell_type": "code",
   "execution_count": 157,
   "metadata": {},
   "outputs": [],
   "source": [
    "#Decision variable inspection\n",
    "payoff = round(model.get(),2)"
   ]
  },
  {
   "cell_type": "code",
   "execution_count": 158,
   "metadata": {
    "scrolled": true
   },
   "outputs": [
    {
     "data": {
      "text/plain": [
       "'The optimal payoff given the chosen competitions for 2022 is: 16289.71 Euros'"
      ]
     },
     "execution_count": 158,
     "metadata": {},
     "output_type": "execute_result"
    }
   ],
   "source": [
    "#Optimal payoff per year\n",
    "y = datetime.datetime.now().strftime(\"%Y\")\n",
    "\n",
    "\"The optimal payoff given the chosen competitions for {} is: {} Euros\".format(str(y), str(payoff))"
   ]
  },
  {
   "cell_type": "markdown",
   "metadata": {},
   "source": [
    "### 6. Give user insight into model result\n",
    "\n",
    "##### a) Stats on yearly plan\n",
    "##### b) MapView to show where most locations will be\n"
   ]
  },
  {
   "cell_type": "code",
   "execution_count": 159,
   "metadata": {},
   "outputs": [],
   "source": [
    "h = h.get()"
   ]
  },
  {
   "cell_type": "code",
   "execution_count": 160,
   "metadata": {
    "scrolled": false
   },
   "outputs": [
    {
     "data": {
      "text/plain": [
       "['Horse_1', 'Horse_2', 'Horse_3']"
      ]
     },
     "execution_count": 160,
     "metadata": {},
     "output_type": "execute_result"
    }
   ],
   "source": [
    "#Fill results into resulting data\n",
    "c = 0\n",
    "cols = []\n",
    "for i in range(1, n + 1):\n",
    "    \n",
    "    col = \"Horse_\"+str(i)\n",
    "    data[col] = list(map(lambda x: int(x), h[c]))\n",
    "    \n",
    "    cols.append(col)\n",
    "    \n",
    "    c+=1\n",
    "\n",
    "cols"
   ]
  },
  {
   "cell_type": "code",
   "execution_count": 161,
   "metadata": {},
   "outputs": [
    {
     "name": "stderr",
     "output_type": "stream",
     "text": [
      "/var/folders/zr/wyncb3692bl4wvmg4vgzy0d40000gn/T/ipykernel_4366/2384228488.py:2: SettingWithCopyWarning: \n",
      "A value is trying to be set on a copy of a slice from a DataFrame.\n",
      "Try using .loc[row_indexer,col_indexer] = value instead\n",
      "\n",
      "See the caveats in the documentation: https://pandas.pydata.org/pandas-docs/stable/user_guide/indexing.html#returning-a-view-versus-a-copy\n",
      "  horses[\"Month\"] = data[\"Month\"]\n"
     ]
    },
    {
     "data": {
      "text/plain": [
       "<AxesSubplot:title={'center':'How much does each horse compete each month?'}, xlabel='Month'>"
      ]
     },
     "execution_count": 161,
     "metadata": {},
     "output_type": "execute_result"
    },
    {
     "data": {
      "image/png": "[encoded data removed]",
      "text/plain": [
       "<Figure size 864x576 with 1 Axes>"
      ]
     },
     "metadata": {
      "needs_background": "light"
     },
     "output_type": "display_data"
    }
   ],
   "source": [
    "horses = data[data.columns [14: 14 + n]]\n",
    "horses[\"Month\"] = data[\"Month\"]\n",
    "horses = horses.groupby(['Month']).sum().reset_index()\n",
    "horses.plot(x=\"Month\",y=horses.columns[1:n + 1], kind=\"bar\", figsize=(12,8), linewidth=0.5, title=\"How much does each horse compete each month?\")"
   ]
  },
  {
   "cell_type": "code",
   "execution_count": 104,
   "metadata": {},
   "outputs": [],
   "source": [
    "#Only get columns where at least one value is 1\n",
    "data = data[data[horses.columns[1:]].sum(axis=1) != 0].reset_index(drop=True)"
   ]
  },
  {
   "cell_type": "code",
   "execution_count": 105,
   "metadata": {},
   "outputs": [
    {
     "data": {
      "text/plain": [
       "<folium.map.Marker at 0x7f903fa35460>"
      ]
     },
     "execution_count": 105,
     "metadata": {},
     "output_type": "execute_result"
    }
   ],
   "source": [
    "#Initialize map at origin\n",
    "first_row = data.iloc[1,:]\n",
    "base_lat = first_row[\"Origin_Lat\"]\n",
    "base_long = first_row[\"Origin_Long\"]\n",
    "m = folium.Map(location=[base_lat, base_long], zoom_start=8)\n",
    "\n",
    "colours = {\n",
    "    \"CSN-C\": \"lightblue\",\n",
    "    \"CSN-B\": \"blue\",\n",
    "    \"CSN-B*\": \"blue\",\n",
    "    \"CSN-A\": \"darkblue\",\n",
    "    \"CSN-A*\": \"darkblue\",\n",
    "    \"CSI1*\": \"lightred\",\n",
    "    \"CSI2*\": \"red\",\n",
    "    \"CSI3*\": \"darkred\",\n",
    "    \"CSI4*\": \"darkred\",\n",
    "}\n",
    "\n",
    "#Add marker to origin\n",
    "folium.Marker(\n",
    "    [base_lat, base_long], popup=\"<i>{}</i>\".format(first_row[\"Origin\"]), tooltip=\"Home\",icon=folium.Icon(color=\"red\", icon='home')).add_to(m)\n"
   ]
  },
  {
   "cell_type": "code",
   "execution_count": 106,
   "metadata": {
    "scrolled": true
   },
   "outputs": [
    {
     "name": "stdout",
     "output_type": "stream",
     "text": [
      "CSI2* Horse_3 Horse_4\n",
      "CSI2* Horse_1 Horse_3\n",
      "CSI2* Horse_1 Horse_2\n",
      "CSN-A* Horse_2 Horse_4\n",
      "CSN-A Horse_1 Horse_4\n",
      "CSI3* Horse_2 Horse_4\n",
      "CSN-A* Horse_1 Horse_3\n",
      "CSN-A* Horse_1 Horse_3\n",
      "CSN-A* Horse_1 Horse_3\n",
      "CSI2* Horse_3 Horse_4\n",
      "CSI2* Horse_1 Horse_3\n",
      "CSI2* Horse_1 Horse_2\n",
      "CSN-A Horse_1 Horse_2\n",
      "CSI2* Horse_2 Horse_4\n",
      "CSN-A* Horse_3\n",
      "CSI3* Horse_1 Horse_2\n",
      "CSN-A* Horse_1 Horse_3\n",
      "CSN-A* Horse_2 Horse_4\n",
      "CSN-A* Horse_1 Horse_2\n",
      "CSN-A* Horse_1 Horse_2\n",
      "CSN-A* Horse_1 Horse_4\n",
      "CSI2* Horse_2 Horse_3\n",
      "CSN-A Horse_3 Horse_4\n",
      "CSN-A Horse_1 Horse_2\n",
      "CSN-A* Horse_1 Horse_4\n",
      "CSN-A* Horse_2 Horse_4\n",
      "CSN-A* Horse_2 Horse_4\n",
      "CSI2* Horse_1 Horse_2\n",
      "CSN-A* Horse_2 Horse_4\n",
      "CSN-A* Horse_3 Horse_4\n",
      "CSN-A* Horse_1 Horse_3\n",
      "CSI2* Horse_1 Horse_3\n",
      "CSI2* Horse_1 Horse_3\n",
      "CSN-A* Horse_1 Horse_3\n",
      "CSI4* Horse_1 Horse_3\n"
     ]
    },
    {
     "data": {
      "text/html": [
       "<div style=\"width:100%;\"><div style=\"position:relative;width:100%;height:0;padding-bottom:60%;\"><span style=\"color:#565656\">Make this Notebook Trusted to load map: File -> Trust Notebook</span><iframe src=\"about:blank\" style=\"position:absolute;width:100%;height:100%;left:0;top:0;border:none !important;\" data-html=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 onload=\"this.contentDocument.open();this.contentDocument.write(atob(this.getAttribute('data-html')));this.contentDocument.close();\" allowfullscreen webkitallowfullscreen mozallowfullscreen></iframe></div></div>"
      ],
      "text/plain": [
       "<folium.folium.Map at 0x7f903d5bf070>"
      ]
     },
     "execution_count": 106,
     "metadata": {},
     "output_type": "execute_result"
    }
   ],
   "source": [
    "#Populate tournaments as markers on the map. The user can click the marker and get info on which horses to send.\n",
    "for index, row in data.iterrows():\n",
    "    dest_lat = row[\"Destination_Lat\"]\n",
    "    dest_long = row[\"Destination_Long\"]\n",
    "    \n",
    "    selected_horses = []\n",
    "    \n",
    "    for col in list(horses.columns):\n",
    "        if int(row[col]) == 1:\n",
    "            selected_horses.append(col)\n",
    "            \n",
    "    \n",
    "    \n",
    "    folium.Marker(\n",
    "    [dest_lat, dest_long], popup=\"<i>{}</i>\"\n",
    "        .format(\" \".join([row[\"Category\"].replace(\"\\n\", \"\"), \" \".join(selected_horses)])), \n",
    "        tooltip=\" \".join([row[\"Category\"].replace(\" \", \"\"),row[\"Destination\"]]), \n",
    "        icon=folium.Icon(color=colours[row[\"Category\"]])\n",
    "    ).add_to(m)\n",
    "    \n",
    "    print(\" \".join([row[\"Category\"].replace(\"\\n\", \"\"), \" \".join(selected_horses)]))\n",
    "    \n",
    "m"
   ]
  },
  {
   "cell_type": "code",
   "execution_count": null,
   "metadata": {},
   "outputs": [],
   "source": []
  }
 ],
 "metadata": {
  "kernelspec": {
   "display_name": "tensorflow",
   "language": "python",
   "name": "tensorflow"
  },
  "language_info": {
   "codemirror_mode": {
    "name": "ipython",
    "version": 3
   },
   "file_extension": ".py",
   "mimetype": "text/x-python",
   "name": "python",
   "nbconvert_exporter": "python",
   "pygments_lexer": "ipython3",
   "version": "3.8.5"
  }
 },
 "nbformat": 4,
 "nbformat_minor": 4
}
