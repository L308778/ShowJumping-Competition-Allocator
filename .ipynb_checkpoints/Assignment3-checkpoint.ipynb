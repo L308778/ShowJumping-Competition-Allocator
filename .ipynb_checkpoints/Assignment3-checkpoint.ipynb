{
 "cells": [
  {
   "cell_type": "code",
   "execution_count": 1,
   "metadata": {},
   "outputs": [
    {
     "ename": "ModuleNotFoundError",
     "evalue": "No module named 'gurobipy'",
     "output_type": "error",
     "traceback": [
      "\u001b[0;31m---------------------------------------------------------------------------\u001b[0m",
      "\u001b[0;31mModuleNotFoundError\u001b[0m                       Traceback (most recent call last)",
      "Input \u001b[0;32mIn [1]\u001b[0m, in \u001b[0;36m<module>\u001b[0;34m\u001b[0m\n\u001b[0;32m----> 1\u001b[0m \u001b[38;5;28;01mfrom\u001b[39;00m \u001b[38;5;21;01mgurobipy\u001b[39;00m \u001b[38;5;28;01mimport\u001b[39;00m \u001b[38;5;241m*\u001b[39m\n\u001b[1;32m      2\u001b[0m \u001b[38;5;28;01mfrom\u001b[39;00m \u001b[38;5;21;01mmath\u001b[39;00m \u001b[38;5;28;01mimport\u001b[39;00m sqrt\n\u001b[1;32m      3\u001b[0m \u001b[38;5;28;01mimport\u001b[39;00m \u001b[38;5;21;01mpandas\u001b[39;00m \u001b[38;5;28;01mas\u001b[39;00m \u001b[38;5;21;01mpd\u001b[39;00m\n",
      "\u001b[0;31mModuleNotFoundError\u001b[0m: No module named 'gurobipy'"
     ]
    }
   ],
   "source": [
    "from gurobipy import *\n",
    "from math import sqrt\n",
    "import pandas as pd\n",
    "import numpy as np\n",
    "import matplotlib\n",
    "import matplotlib.pyplot as plt\n",
    "\n",
    "import rsome as rso\n",
    "from rsome import ro\n",
    "from rsome import ort_solver as solver"
   ]
  },
  {
   "cell_type": "code",
   "execution_count": 2,
   "metadata": {},
   "outputs": [
    {
     "name": "stdout",
     "output_type": "stream",
     "text": [
      "Being solved by OR-Tools...\n",
      "Solution status: 0\n",
      "Running time: 0.0066s\n",
      "Six-month loan = 60000\n",
      "One-month loan at the 1-th month = 0\n",
      "Cash surplus at the 1-th month = 30000\n",
      "One-month loan at the 2-th month = 0\n",
      "Cash surplus at the 2-th month = 0\n",
      "One-month loan at the 3-th month = 10000\n",
      "Cash surplus at the 3-th month = 0\n",
      "One-month loan at the 4-th month = 20400\n",
      "Cash surplus at the 4-th month = 0\n",
      "One-month loan at the 5-th month = 0\n",
      "Cash surplus at the 5-th month = 8784\n",
      "One-month loan at the 6-th month = 0\n",
      "Cash surplus at the 6-th month = 78784\n",
      "Optimal Solutions = 8416\n"
     ]
    }
   ],
   "source": [
    "m1 = ro.Model('assign3Q1')\n",
    "x = m1.dvar()# six-month loan\n",
    "y = m1.dvar(6)# one-month loan\n",
    "c = m1.dvar(6)# cash surplus\n",
    "\n",
    "m1.min(0.12*x+0.04*np.sum([y[i] for i in range(6)]))\n",
    "\n",
    "m1.st( x + y[0] + 20000  == c[0] + 50000)\n",
    "m1.st( y[1] + c[0] + 30000 == 1.04*y[0] + c[1] + 60000)\n",
    "m1.st(y[2] + c[1] + 40000 == 1.04*y[1] + c[2] + 50000)\n",
    "m1.st(y[3] + c[2] + 50000 == 1.04*y[2] + c[3] + 60000)\n",
    "m1.st(y[4] + c[3] + 80000 == 1.04*y[3] + c[4] + 50000)\n",
    "m1.st(y[5] + c[4] + 100000 == 1.04*y[4] + c[5] + 30000)\n",
    "m1.st(1.12*x + 1.04*y[5] <= c[5])\n",
    "m1.st(x>=0,y>=0,c>=0)\n",
    "\n",
    "m1.solve(solver)\n",
    "\n",
    "print(\"Six-month loan = %g\" %x.get())\n",
    "for i in range(6):\n",
    "    print(\"One-month loan at the %g-th month = %g\" %(i+1, y.get()[i]))\n",
    "    print(\"Cash surplus at the %g-th month = %g\" %(i+1, c.get()[i]))\n",
    "\n",
    "\n",
    "print(\"Optimal Solutions = %g\" %m1.get())"
   ]
  },
  {
   "cell_type": "code",
   "execution_count": 20,
   "metadata": {},
   "outputs": [
    {
     "name": "stdout",
     "output_type": "stream",
     "text": [
      "Being solved by OR-Tools...\n",
      "Solution status: 0\n",
      "Running time: 0.0028s\n",
      "Optimal Solutions =42000\n",
      "Number of TV ads = 0\n",
      "Number of newspaper ads = 0\n",
      "Number of radio ads = 7\n"
     ]
    }
   ],
   "source": [
    "m2 = ro.Model('assign3Q2')\n",
    "x = m2.dvar(3, vtype='I')\n",
    "m2.min(15000*x[0] + 4000*x[1] + 6000*x[2])\n",
    "m2.st( x[2] >= 2*x[1])\n",
    "m2.st(25000*x[0] + 10000*x[1] + 15000*x[2] >= 100000)\n",
    "m2.st(15000*x[0] + 3000*x[1] + 12000*x[2] >= 2*(10000*x[0]+7000*x[1]+3000*x[2]))\n",
    "m2.st(15000*x[0] + 4000*x[1] + 9000*x[2] >= 0.6*(25000*x[0]+10000*x[1]+15000*x[2]))\n",
    "m2.st( x[1] <=7)\n",
    "m2.st( x >= 0)\n",
    "\n",
    "m2.solve(solver)\n",
    "\n",
    "print(\"Optimal Solutions =%g\" %m2.get());\n",
    "print(\"Number of TV ads = %g\" %x.get()[0])\n",
    "print(\"Number of newspaper ads = %g\" %x.get()[1])\n",
    "print(\"Number of radio ads = %g\" %x.get()[2])\n"
   ]
  },
  {
   "cell_type": "code",
   "execution_count": null,
   "metadata": {},
   "outputs": [],
   "source": []
  },
  {
   "cell_type": "code",
   "execution_count": null,
   "metadata": {},
   "outputs": [],
   "source": []
  },
  {
   "cell_type": "code",
   "execution_count": null,
   "metadata": {},
   "outputs": [],
   "source": []
  },
  {
   "cell_type": "code",
   "execution_count": null,
   "metadata": {},
   "outputs": [],
   "source": []
  }
 ],
 "metadata": {
  "kernelspec": {
   "display_name": "Python 3",
   "language": "python",
   "name": "python3"
  },
  "language_info": {
   "codemirror_mode": {
    "name": "ipython",
    "version": 3
   },
   "file_extension": ".py",
   "mimetype": "text/x-python",
   "name": "python",
   "nbconvert_exporter": "python",
   "pygments_lexer": "ipython3",
   "version": "3.8.5"
  },
  "toc": {
   "base_numbering": 1,
   "nav_menu": {},
   "number_sections": true,
   "sideBar": true,
   "skip_h1_title": false,
   "title_cell": "Table of Contents",
   "title_sidebar": "Contents",
   "toc_cell": false,
   "toc_position": {},
   "toc_section_display": true,
   "toc_window_display": true
  }
 },
 "nbformat": 4,
 "nbformat_minor": 2
}
