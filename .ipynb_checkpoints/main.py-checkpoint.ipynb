{
 "cells": [
  {
   "cell_type": "code",
   "execution_count": 154,
   "metadata": {},
   "outputs": [],
   "source": [
    "import pandas as pd\n",
    "import numpy as np\n",
    "from bs4 import BeautifulSoup\n",
    "from selenium import webdriver\n",
    "from geopy.geocoders import Nominatim\n",
    "import json\n",
    "import requests"
   ]
  },
  {
   "cell_type": "markdown",
   "metadata": {},
   "source": [
    "### 1. Use webdriver to put website into state of scrapping"
   ]
  },
  {
   "cell_type": "code",
   "execution_count": 155,
   "metadata": {},
   "outputs": [],
   "source": [
    "baseUrl = \"https://www.oeps.at/de/termine\"\n",
    "chrome_options = webdriver.ChromeOptions()\n",
    "chrome_options.add_argument('headless')\n",
    "\n",
    "#Create the webdriver instance\n",
    "browser = webdriver.Chrome(\"./Chromedriver/chromedriver\", options=chrome_options)\n",
    "\n",
    "#Open the url\n",
    "browser.get(baseUrl)\n",
    "\n",
    "#Find element to filter for the whole year data\n",
    "dropdown = browser.find_element_by_xpath('/html/body/main/div[1]/div/div/div/div[2]/form/span[1]/select[1]')\n",
    "dropdown.click()\n",
    "\n",
    "#Click\n",
    "option = browser.find_element_by_xpath(\"/html/body/main/div[1]/div/div/div/div[2]/form/span[1]/select[1]/option[1]\")\n",
    "option.click()\n",
    "\n",
    "#Submit\n",
    "submit = browser.find_element_by_xpath(\"/html/body/main/div[1]/div/div/div/div[2]/form/input\")\n",
    "submit.click()\n",
    "\n",
    "#Get data\n",
    "all_data = browser.find_element_by_class_name(\"appointmentslist\").text"
   ]
  },
  {
   "cell_type": "markdown",
   "metadata": {},
   "source": [
    "### 2. Scrap data from website and assemble it into a dataframe"
   ]
  },
  {
   "cell_type": "code",
   "execution_count": 156,
   "metadata": {},
   "outputs": [],
   "source": [
    "#Convert month names into numerics\n",
    "months_conversion = {\n",
    "    \"Jänner\":1,\n",
    "    \"Februar\":2,\n",
    "    \"März\":3,\n",
    "    \"April\":4,\n",
    "    \"Mai\":5,\n",
    "    \"Juni\":6,\n",
    "    \"Juli\":7,\n",
    "    \"August\":8,\n",
    "    \"September\":9,\n",
    "    \"Oktober\":10,\n",
    "    \"November\":11,\n",
    "    \"Dezember\":12\n",
    "}"
   ]
  },
  {
   "cell_type": "code",
   "execution_count": 157,
   "metadata": {},
   "outputs": [],
   "source": [
    "#Connect bs4 to selenium\n",
    "html = browser.page_source\n",
    "\n",
    "#Instantiate soup instance\n",
    "soup = BeautifulSoup(html, 'lxml')\n",
    "\n",
    "#Get main appointment list\n",
    "main_div = soup.find('div', class_='appointmentslist')\n",
    "\n",
    "#Get all appointments for competitions\n",
    "all_divs = main_div.find_all(\"div\", class_=\"appointment\")\n",
    "\n",
    "#Final data\n",
    "data = []\n",
    "\n",
    "for test in all_divs:\n",
    "    \n",
    "    curr = {}\n",
    "    \n",
    "    #Month & date\n",
    "    full_date = test.find(\"div\", class_=\"date\").text\n",
    "    \n",
    "    #Only get the start of the competition to determine the week\n",
    "    date = \" \".join(full_date.split()).split()\n",
    "    month = months_conversion[date[0]]\n",
    "    start_date = date[1]\n",
    "    \n",
    "    #Tournament category\n",
    "    category = test.find(\"div\", class_=\"category\").text\n",
    "    category = category.split()\n",
    "    \n",
    "    #We only want showjumping competitions\n",
    "    category = list(filter(lambda x: \"S\" in x,category))\n",
    "    \n",
    "    #If the list is empty (as we know that S stands for jumping) we drop this competition\n",
    "    if len(category) == 0:\n",
    "        continue\n",
    "        \n",
    "    category = \", \".join(category)\n",
    "    \n",
    "    #Location\n",
    "    location = test.find(\"div\", class_=\"location\").text.split()\n",
    "    \n",
    "    #Only want the city or village of the location\n",
    "    location = \" \".join(location[1:])\n",
    "    \n",
    "    #Assemble dictionary\n",
    "    curr[\"Month\"] = month\n",
    "    curr[\"Date\"] = start_date\n",
    "    curr[\"Destination\"] = location\n",
    "    curr[\"Category\"] = category\n",
    "    \n",
    "    #Append to data\n",
    "    data.append(curr)\n",
    "    \n",
    "#Close browser\n",
    "browser.close()\n",
    "    \n",
    "data = pd.DataFrame(data)\n",
    "    "
   ]
  },
  {
   "cell_type": "code",
   "execution_count": 158,
   "metadata": {
    "scrolled": true
   },
   "outputs": [
    {
     "data": {
      "text/html": [
       "<div>\n",
       "<style scoped>\n",
       "    .dataframe tbody tr th:only-of-type {\n",
       "        vertical-align: middle;\n",
       "    }\n",
       "\n",
       "    .dataframe tbody tr th {\n",
       "        vertical-align: top;\n",
       "    }\n",
       "\n",
       "    .dataframe thead th {\n",
       "        text-align: right;\n",
       "    }\n",
       "</style>\n",
       "<table border=\"1\" class=\"dataframe\">\n",
       "  <thead>\n",
       "    <tr style=\"text-align: right;\">\n",
       "      <th></th>\n",
       "      <th>Month</th>\n",
       "      <th>Date</th>\n",
       "      <th>Destination</th>\n",
       "      <th>Category</th>\n",
       "    </tr>\n",
       "  </thead>\n",
       "  <tbody>\n",
       "    <tr>\n",
       "      <th>0</th>\n",
       "      <td>1</td>\n",
       "      <td>28.01.2022</td>\n",
       "      <td>Ebreichsdorf</td>\n",
       "      <td>CSN-B*</td>\n",
       "    </tr>\n",
       "    <tr>\n",
       "      <th>1</th>\n",
       "      <td>2</td>\n",
       "      <td>11.02.2022</td>\n",
       "      <td>Stadl Paura</td>\n",
       "      <td>CSN-B*</td>\n",
       "    </tr>\n",
       "    <tr>\n",
       "      <th>2</th>\n",
       "      <td>2</td>\n",
       "      <td>19.02.2022</td>\n",
       "      <td>Tulln an der Donau</td>\n",
       "      <td>CSN-C</td>\n",
       "    </tr>\n",
       "    <tr>\n",
       "      <th>3</th>\n",
       "      <td>2</td>\n",
       "      <td>25.02.2022</td>\n",
       "      <td>Ebreichsdorf</td>\n",
       "      <td>CSN-B*</td>\n",
       "    </tr>\n",
       "    <tr>\n",
       "      <th>4</th>\n",
       "      <td>2</td>\n",
       "      <td>25.02.2022</td>\n",
       "      <td>Stadl Paura</td>\n",
       "      <td>CSN-B*</td>\n",
       "    </tr>\n",
       "    <tr>\n",
       "      <th>...</th>\n",
       "      <td>...</td>\n",
       "      <td>...</td>\n",
       "      <td>...</td>\n",
       "      <td>...</td>\n",
       "    </tr>\n",
       "    <tr>\n",
       "      <th>180</th>\n",
       "      <td>11</td>\n",
       "      <td>04.11.2022</td>\n",
       "      <td>Stadl Paura</td>\n",
       "      <td>CSN-B*</td>\n",
       "    </tr>\n",
       "    <tr>\n",
       "      <th>181</th>\n",
       "      <td>11</td>\n",
       "      <td>11.11.2022</td>\n",
       "      <td>Stadl Paura</td>\n",
       "      <td>CSN-B*</td>\n",
       "    </tr>\n",
       "    <tr>\n",
       "      <th>182</th>\n",
       "      <td>11</td>\n",
       "      <td>25.11.2022</td>\n",
       "      <td>Ebreichsdorf</td>\n",
       "      <td>CSN-B*, CSNP-B</td>\n",
       "    </tr>\n",
       "    <tr>\n",
       "      <th>183</th>\n",
       "      <td>12</td>\n",
       "      <td>02.12.2022</td>\n",
       "      <td>Stadl Paura</td>\n",
       "      <td>CSN-A*, CSN-B</td>\n",
       "    </tr>\n",
       "    <tr>\n",
       "      <th>184</th>\n",
       "      <td>12</td>\n",
       "      <td>08.12.2022</td>\n",
       "      <td>Salzburg Arena/Messezentrum</td>\n",
       "      <td>CSI4*, CSI2*, CSIAm-A, CSICH-A, CSIJ-A, CSIY-A...</td>\n",
       "    </tr>\n",
       "  </tbody>\n",
       "</table>\n",
       "<p>185 rows × 4 columns</p>\n",
       "</div>"
      ],
      "text/plain": [
       "     Month        Date                  Destination  \\\n",
       "0        1  28.01.2022                 Ebreichsdorf   \n",
       "1        2  11.02.2022                  Stadl Paura   \n",
       "2        2  19.02.2022           Tulln an der Donau   \n",
       "3        2  25.02.2022                 Ebreichsdorf   \n",
       "4        2  25.02.2022                  Stadl Paura   \n",
       "..     ...         ...                          ...   \n",
       "180     11  04.11.2022                  Stadl Paura   \n",
       "181     11  11.11.2022                  Stadl Paura   \n",
       "182     11  25.11.2022                 Ebreichsdorf   \n",
       "183     12  02.12.2022                  Stadl Paura   \n",
       "184     12  08.12.2022  Salzburg Arena/Messezentrum   \n",
       "\n",
       "                                              Category  \n",
       "0                                               CSN-B*  \n",
       "1                                               CSN-B*  \n",
       "2                                                CSN-C  \n",
       "3                                               CSN-B*  \n",
       "4                                               CSN-B*  \n",
       "..                                                 ...  \n",
       "180                                             CSN-B*  \n",
       "181                                             CSN-B*  \n",
       "182                                     CSN-B*, CSNP-B  \n",
       "183                                      CSN-A*, CSN-B  \n",
       "184  CSI4*, CSI2*, CSIAm-A, CSICH-A, CSIJ-A, CSIY-A...  \n",
       "\n",
       "[185 rows x 4 columns]"
      ]
     },
     "execution_count": 158,
     "metadata": {},
     "output_type": "execute_result"
    }
   ],
   "source": [
    "#Final data after webscraping\n",
    "data"
   ]
  },
  {
   "cell_type": "markdown",
   "metadata": {},
   "source": [
    "### Use google maps to find distance between home base and tournament to get transportation cost"
   ]
  },
  {
   "cell_type": "code",
   "execution_count": 159,
   "metadata": {},
   "outputs": [],
   "source": [
    "\"\"\"From my previous runs, I saw that some locations cannot be mapped to lat long given by the webiste. \n",
    "So I used the actual address of the location or a larger location close by.\"\"\"\n",
    "\n",
    "bad_loc = {\n",
    "    \"St. Margarethen-Stückler\": \"Reiterhofstraße 38, 9412 Wolfsberg, Austria\",\n",
    "    \"Auhof Neufeld\": \"Neufeld an Leitha\",\n",
    "    \"Treffen - GHPC\": \"Gaston Glock Straße 8, 9521 Treffen am Ossiacher See, Austria\",\n",
    "    \"Wien-Freudenau/ASKÖ\":\"Freudenau 555, 1020 Wien, Austria\"\n",
    "}"
   ]
  },
  {
   "cell_type": "code",
   "execution_count": 160,
   "metadata": {},
   "outputs": [],
   "source": [
    "#My base location was my old horse riding stable\n",
    "data[\"Origin\"] = \"Zwentendorf\"\n",
    "geolocator = Nominatim(user_agent=\"Leo\")\n",
    "home = geolocator.geocode(\"Zwentendorf\")\n",
    "\n",
    "#Add lat and long to all destinations\n",
    "def lat_long(address):\n",
    "    \n",
    "    geolocator = Nominatim(user_agent=\"Leo\")\n",
    "    location = geolocator.geocode(address)\n",
    "    \n",
    "    if not location:\n",
    "        location = geolocator.geocode(bad_loc[address])\n",
    "    \n",
    "    return [location.longitude, location.latitude]\n",
    "\n",
    "#Getting both coords at the same time to limit runtime\n",
    "data[\"Destination_Coords\"] = data[\"Destination\"].apply(lambda x: lat_long(x))\n",
    "data[\"Destination_Long\"] = data[\"Destination_Coords\"].apply(lambda x: x[0])\n",
    "data[\"Destination_Lat\"] = data[\"Destination_Coords\"].apply(lambda x: x[1])\n",
    "data[\"Origin_Lat\"] = home.latitude\n",
    "data[\"Origin_Long\"] = home.longitude"
   ]
  },
  {
   "cell_type": "code",
   "execution_count": null,
   "metadata": {
    "scrolled": true
   },
   "outputs": [],
   "source": [
    "data"
   ]
  },
  {
   "cell_type": "code",
   "execution_count": 151,
   "metadata": {},
   "outputs": [],
   "source": [
    "def get_drive_distance(long_o, lat_o, long_d, lat_d):\n",
    "    r = requests.get(f\"http://router.project-osrm.org/route/v1/car/{long_o},{lat_o};{long_d},{lat_d}?overview=false\"\"\")\n",
    "    try:\n",
    "        \n",
    "        routes = json.loads(r.content)\n",
    "        route = routes.get(\"routes\")[0]\n",
    "        distance = [\"legs\"][0][\"distance\"]\n",
    "        \n",
    "    except:\n",
    "        print(r)\n",
    "    return distance"
   ]
  },
  {
   "cell_type": "code",
   "execution_count": 152,
   "metadata": {},
   "outputs": [
    {
     "name": "stdout",
     "output_type": "stream",
     "text": [
      "<Response [404]>\n"
     ]
    },
    {
     "ename": "UnboundLocalError",
     "evalue": "local variable 'distance' referenced before assignment",
     "output_type": "error",
     "traceback": [
      "\u001b[0;31m---------------------------------------------------------------------------\u001b[0m",
      "\u001b[0;31mUnboundLocalError\u001b[0m                         Traceback (most recent call last)",
      "Input \u001b[0;32mIn [152]\u001b[0m, in \u001b[0;36m<module>\u001b[0;34m\u001b[0m\n\u001b[0;32m----> 1\u001b[0m data[\u001b[38;5;124m\"\u001b[39m\u001b[38;5;124mDistance\u001b[39m\u001b[38;5;124m\"\u001b[39m] \u001b[38;5;241m=\u001b[39m \u001b[43mdata\u001b[49m\u001b[38;5;241;43m.\u001b[39;49m\u001b[43mapply\u001b[49m\u001b[43m(\u001b[49m\u001b[38;5;28;43;01mlambda\u001b[39;49;00m\u001b[43m \u001b[49m\u001b[43mx\u001b[49m\u001b[43m:\u001b[49m\u001b[43m \u001b[49m\u001b[43mget_drive_distance\u001b[49m\u001b[43m(\u001b[49m\u001b[43mdata\u001b[49m\u001b[38;5;241;43m.\u001b[39;49m\u001b[43mOrigin_Long\u001b[49m\u001b[43m,\u001b[49m\u001b[43m \u001b[49m\u001b[43mdata\u001b[49m\u001b[38;5;241;43m.\u001b[39;49m\u001b[43mOrigin_Lat\u001b[49m\u001b[43m,\u001b[49m\u001b[43m \u001b[49m\u001b[43mdata\u001b[49m\u001b[38;5;241;43m.\u001b[39;49m\u001b[43mDestination_Long\u001b[49m\u001b[43m,\u001b[49m\u001b[43m \u001b[49m\u001b[43mdata\u001b[49m\u001b[38;5;241;43m.\u001b[39;49m\u001b[43mDestination_Lat\u001b[49m\u001b[43m)\u001b[49m\u001b[43m,\u001b[49m\u001b[43m \u001b[49m\u001b[43maxis\u001b[49m\u001b[38;5;241;43m=\u001b[39;49m\u001b[38;5;241;43m1\u001b[39;49m\u001b[43m)\u001b[49m\n",
      "File \u001b[0;32m/Library/Frameworks/Python.framework/Versions/3.8/lib/python3.8/site-packages/pandas/core/frame.py:8740\u001b[0m, in \u001b[0;36mDataFrame.apply\u001b[0;34m(self, func, axis, raw, result_type, args, **kwargs)\u001b[0m\n\u001b[1;32m   8729\u001b[0m \u001b[38;5;28;01mfrom\u001b[39;00m \u001b[38;5;21;01mpandas\u001b[39;00m\u001b[38;5;21;01m.\u001b[39;00m\u001b[38;5;21;01mcore\u001b[39;00m\u001b[38;5;21;01m.\u001b[39;00m\u001b[38;5;21;01mapply\u001b[39;00m \u001b[38;5;28;01mimport\u001b[39;00m frame_apply\n\u001b[1;32m   8731\u001b[0m op \u001b[38;5;241m=\u001b[39m frame_apply(\n\u001b[1;32m   8732\u001b[0m     \u001b[38;5;28mself\u001b[39m,\n\u001b[1;32m   8733\u001b[0m     func\u001b[38;5;241m=\u001b[39mfunc,\n\u001b[0;32m   (...)\u001b[0m\n\u001b[1;32m   8738\u001b[0m     kwargs\u001b[38;5;241m=\u001b[39mkwargs,\n\u001b[1;32m   8739\u001b[0m )\n\u001b[0;32m-> 8740\u001b[0m \u001b[38;5;28;01mreturn\u001b[39;00m \u001b[43mop\u001b[49m\u001b[38;5;241;43m.\u001b[39;49m\u001b[43mapply\u001b[49m\u001b[43m(\u001b[49m\u001b[43m)\u001b[49m\n",
      "File \u001b[0;32m/Library/Frameworks/Python.framework/Versions/3.8/lib/python3.8/site-packages/pandas/core/apply.py:688\u001b[0m, in \u001b[0;36mFrameApply.apply\u001b[0;34m(self)\u001b[0m\n\u001b[1;32m    685\u001b[0m \u001b[38;5;28;01melif\u001b[39;00m \u001b[38;5;28mself\u001b[39m\u001b[38;5;241m.\u001b[39mraw:\n\u001b[1;32m    686\u001b[0m     \u001b[38;5;28;01mreturn\u001b[39;00m \u001b[38;5;28mself\u001b[39m\u001b[38;5;241m.\u001b[39mapply_raw()\n\u001b[0;32m--> 688\u001b[0m \u001b[38;5;28;01mreturn\u001b[39;00m \u001b[38;5;28;43mself\u001b[39;49m\u001b[38;5;241;43m.\u001b[39;49m\u001b[43mapply_standard\u001b[49m\u001b[43m(\u001b[49m\u001b[43m)\u001b[49m\n",
      "File \u001b[0;32m/Library/Frameworks/Python.framework/Versions/3.8/lib/python3.8/site-packages/pandas/core/apply.py:812\u001b[0m, in \u001b[0;36mFrameApply.apply_standard\u001b[0;34m(self)\u001b[0m\n\u001b[1;32m    811\u001b[0m \u001b[38;5;28;01mdef\u001b[39;00m \u001b[38;5;21mapply_standard\u001b[39m(\u001b[38;5;28mself\u001b[39m):\n\u001b[0;32m--> 812\u001b[0m     results, res_index \u001b[38;5;241m=\u001b[39m \u001b[38;5;28;43mself\u001b[39;49m\u001b[38;5;241;43m.\u001b[39;49m\u001b[43mapply_series_generator\u001b[49m\u001b[43m(\u001b[49m\u001b[43m)\u001b[49m\n\u001b[1;32m    814\u001b[0m     \u001b[38;5;66;03m# wrap results\u001b[39;00m\n\u001b[1;32m    815\u001b[0m     \u001b[38;5;28;01mreturn\u001b[39;00m \u001b[38;5;28mself\u001b[39m\u001b[38;5;241m.\u001b[39mwrap_results(results, res_index)\n",
      "File \u001b[0;32m/Library/Frameworks/Python.framework/Versions/3.8/lib/python3.8/site-packages/pandas/core/apply.py:828\u001b[0m, in \u001b[0;36mFrameApply.apply_series_generator\u001b[0;34m(self)\u001b[0m\n\u001b[1;32m    825\u001b[0m \u001b[38;5;28;01mwith\u001b[39;00m option_context(\u001b[38;5;124m\"\u001b[39m\u001b[38;5;124mmode.chained_assignment\u001b[39m\u001b[38;5;124m\"\u001b[39m, \u001b[38;5;28;01mNone\u001b[39;00m):\n\u001b[1;32m    826\u001b[0m     \u001b[38;5;28;01mfor\u001b[39;00m i, v \u001b[38;5;129;01min\u001b[39;00m \u001b[38;5;28menumerate\u001b[39m(series_gen):\n\u001b[1;32m    827\u001b[0m         \u001b[38;5;66;03m# ignore SettingWithCopy here in case the user mutates\u001b[39;00m\n\u001b[0;32m--> 828\u001b[0m         results[i] \u001b[38;5;241m=\u001b[39m \u001b[38;5;28;43mself\u001b[39;49m\u001b[38;5;241;43m.\u001b[39;49m\u001b[43mf\u001b[49m\u001b[43m(\u001b[49m\u001b[43mv\u001b[49m\u001b[43m)\u001b[49m\n\u001b[1;32m    829\u001b[0m         \u001b[38;5;28;01mif\u001b[39;00m \u001b[38;5;28misinstance\u001b[39m(results[i], ABCSeries):\n\u001b[1;32m    830\u001b[0m             \u001b[38;5;66;03m# If we have a view on v, we need to make a copy because\u001b[39;00m\n\u001b[1;32m    831\u001b[0m             \u001b[38;5;66;03m#  series_generator will swap out the underlying data\u001b[39;00m\n\u001b[1;32m    832\u001b[0m             results[i] \u001b[38;5;241m=\u001b[39m results[i]\u001b[38;5;241m.\u001b[39mcopy(deep\u001b[38;5;241m=\u001b[39m\u001b[38;5;28;01mFalse\u001b[39;00m)\n",
      "Input \u001b[0;32mIn [152]\u001b[0m, in \u001b[0;36m<lambda>\u001b[0;34m(x)\u001b[0m\n\u001b[0;32m----> 1\u001b[0m data[\u001b[38;5;124m\"\u001b[39m\u001b[38;5;124mDistance\u001b[39m\u001b[38;5;124m\"\u001b[39m] \u001b[38;5;241m=\u001b[39m data\u001b[38;5;241m.\u001b[39mapply(\u001b[38;5;28;01mlambda\u001b[39;00m x: \u001b[43mget_drive_distance\u001b[49m\u001b[43m(\u001b[49m\u001b[43mdata\u001b[49m\u001b[38;5;241;43m.\u001b[39;49m\u001b[43mOrigin_Long\u001b[49m\u001b[43m,\u001b[49m\u001b[43m \u001b[49m\u001b[43mdata\u001b[49m\u001b[38;5;241;43m.\u001b[39;49m\u001b[43mOrigin_Lat\u001b[49m\u001b[43m,\u001b[49m\u001b[43m \u001b[49m\u001b[43mdata\u001b[49m\u001b[38;5;241;43m.\u001b[39;49m\u001b[43mDestination_Long\u001b[49m\u001b[43m,\u001b[49m\u001b[43m \u001b[49m\u001b[43mdata\u001b[49m\u001b[38;5;241;43m.\u001b[39;49m\u001b[43mDestination_Lat\u001b[49m\u001b[43m)\u001b[49m, axis\u001b[38;5;241m=\u001b[39m\u001b[38;5;241m1\u001b[39m)\n",
      "Input \u001b[0;32mIn [151]\u001b[0m, in \u001b[0;36mget_drive_distance\u001b[0;34m(long_o, lat_o, long_d, lat_d)\u001b[0m\n\u001b[1;32m      9\u001b[0m \u001b[38;5;28;01mexcept\u001b[39;00m:\n\u001b[1;32m     10\u001b[0m     \u001b[38;5;28mprint\u001b[39m(r)\n\u001b[0;32m---> 11\u001b[0m \u001b[38;5;28;01mreturn\u001b[39;00m \u001b[43mdistance\u001b[49m\n",
      "\u001b[0;31mUnboundLocalError\u001b[0m: local variable 'distance' referenced before assignment"
     ]
    }
   ],
   "source": [
    "data[\"Distance\"] = data.apply(lambda x: get_drive_distance(data.Origin_Long, data.Origin_Lat, data.Destination_Long, data.Destination_Lat), axis=1)"
   ]
  },
  {
   "cell_type": "code",
   "execution_count": null,
   "metadata": {},
   "outputs": [],
   "source": []
  }
 ],
 "metadata": {
  "kernelspec": {
   "display_name": "tensorflow",
   "language": "python",
   "name": "tensorflow"
  },
  "language_info": {
   "codemirror_mode": {
    "name": "ipython",
    "version": 3
   },
   "file_extension": ".py",
   "mimetype": "text/x-python",
   "name": "python",
   "nbconvert_exporter": "python",
   "pygments_lexer": "ipython3",
   "version": "3.8.5"
  }
 },
 "nbformat": 4,
 "nbformat_minor": 4
}
